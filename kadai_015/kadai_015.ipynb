#クラスの定義
class Human:
    def __init__(self, name, age):
        self.name = name
        self.age = age
    #メゾッドを定義
    def  printinfo(self):
        print(self.name)
        print(self.age)

#インスタンス化
human = Human("太郎", 37)

human.printinfo()
