#関数の定義
def total(price, tax):
    total = price * (1 + tax / 100)
    print(f"{total}円")

#入力
price = 100 #商品 [円]
tax = 10   #消費税 [%]

#答え
total(price, tax)
