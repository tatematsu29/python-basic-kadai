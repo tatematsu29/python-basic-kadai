class Human():
    def __init__(self, name, age):
        self.name = name
        self.age = age

    def chek_adult(self):
        if self.age >= 20:
            print(f"{self.name}は大人です")
        else:
            print(f"{self.name}は大人ではありません")

human_name = ["太郎", "花子", "一郎", "次郎", "もも"]
human_age = [19, 30, 20, 49, 18]

for i in range(0,5):
    human = Human(human_name[i],human_age[i]) 
    human.chek_adult()
