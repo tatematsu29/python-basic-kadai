list = ["水","金","地","火","木","土","天","海","冥"]

#for文の課題です。--------------------------------
for x in list:
    print(x)

for y in list:
    print(y)

#while文の課題です。------------------------------
count = 1
z = 0

while count < 3:
    
    print(list[z])
    z = z + 1

    if z == 9:
        z = 0
        count = count + 1
